{
 "cells": [
  {
   "cell_type": "markdown",
   "metadata": {},
   "source": [
    "**bibiotecas utilizadas**"
   ]
  },
  {
   "cell_type": "code",
   "execution_count": 1,
   "metadata": {},
   "outputs": [],
   "source": [
    "import seaborn as sns\n",
    "import pandas as pd\n",
    "import numpy as np\n",
    "import random\n",
    "import math\n",
    "import matplotlib.pyplot as plt\n",
    "from sklearn.preprocessing import StandardScaler\n",
    "from sklearn.model_selection import train_test_split"
   ]
  },
  {
   "cell_type": "markdown",
   "metadata": {},
   "source": [
    "**Exportando a panilha do execel formato xlsx para o python**"
   ]
  },
  {
   "cell_type": "code",
   "execution_count": 2,
   "metadata": {},
   "outputs": [
    {
     "data": {
      "text/html": [
       "<div>\n",
       "<style scoped>\n",
       "    .dataframe tbody tr th:only-of-type {\n",
       "        vertical-align: middle;\n",
       "    }\n",
       "\n",
       "    .dataframe tbody tr th {\n",
       "        vertical-align: top;\n",
       "    }\n",
       "\n",
       "    .dataframe thead th {\n",
       "        text-align: right;\n",
       "    }\n",
       "</style>\n",
       "<table border=\"1\" class=\"dataframe\">\n",
       "  <thead>\n",
       "    <tr style=\"text-align: right;\">\n",
       "      <th></th>\n",
       "      <th>ID</th>\n",
       "      <th>Região</th>\n",
       "      <th>Pagamento</th>\n",
       "      <th>Origem</th>\n",
       "      <th>Valor ($)</th>\n",
       "      <th>Produto</th>\n",
       "      <th>Horário</th>\n",
       "    </tr>\n",
       "  </thead>\n",
       "  <tbody>\n",
       "    <tr>\n",
       "      <th>0</th>\n",
       "      <td>10001</td>\n",
       "      <td>Leste</td>\n",
       "      <td>Boleto</td>\n",
       "      <td>Web</td>\n",
       "      <td>20.19</td>\n",
       "      <td>On-line</td>\n",
       "      <td>22:19:00</td>\n",
       "    </tr>\n",
       "    <tr>\n",
       "      <th>1</th>\n",
       "      <td>10002</td>\n",
       "      <td>Oeste</td>\n",
       "      <td>Cartão</td>\n",
       "      <td>Web</td>\n",
       "      <td>17.85</td>\n",
       "      <td>On-line</td>\n",
       "      <td>13:27:00</td>\n",
       "    </tr>\n",
       "    <tr>\n",
       "      <th>2</th>\n",
       "      <td>10003</td>\n",
       "      <td>Norte</td>\n",
       "      <td>Cartão</td>\n",
       "      <td>Web</td>\n",
       "      <td>23.98</td>\n",
       "      <td>On-line</td>\n",
       "      <td>14:27:00</td>\n",
       "    </tr>\n",
       "    <tr>\n",
       "      <th>3</th>\n",
       "      <td>10004</td>\n",
       "      <td>Oeste</td>\n",
       "      <td>Boleto</td>\n",
       "      <td>E-mail</td>\n",
       "      <td>23.51</td>\n",
       "      <td>Livro</td>\n",
       "      <td>15:38:00</td>\n",
       "    </tr>\n",
       "    <tr>\n",
       "      <th>4</th>\n",
       "      <td>10005</td>\n",
       "      <td>Sul</td>\n",
       "      <td>Cartão</td>\n",
       "      <td>Web</td>\n",
       "      <td>15.33</td>\n",
       "      <td>Livro</td>\n",
       "      <td>15:21:00</td>\n",
       "    </tr>\n",
       "    <tr>\n",
       "      <th>...</th>\n",
       "      <td>...</td>\n",
       "      <td>...</td>\n",
       "      <td>...</td>\n",
       "      <td>...</td>\n",
       "      <td>...</td>\n",
       "      <td>...</td>\n",
       "      <td>...</td>\n",
       "    </tr>\n",
       "    <tr>\n",
       "      <th>505</th>\n",
       "      <td>10506</td>\n",
       "      <td>Sul</td>\n",
       "      <td>Cartão</td>\n",
       "      <td>Web</td>\n",
       "      <td>16.35</td>\n",
       "      <td>Livro</td>\n",
       "      <td>22:29:00</td>\n",
       "    </tr>\n",
       "    <tr>\n",
       "      <th>506</th>\n",
       "      <td>10507</td>\n",
       "      <td>Oeste</td>\n",
       "      <td>Boleto</td>\n",
       "      <td>Web</td>\n",
       "      <td>23.70</td>\n",
       "      <td>Livro</td>\n",
       "      <td>20:43:00</td>\n",
       "    </tr>\n",
       "    <tr>\n",
       "      <th>507</th>\n",
       "      <td>10508</td>\n",
       "      <td>Sul</td>\n",
       "      <td>Cartão</td>\n",
       "      <td>Web</td>\n",
       "      <td>22.02</td>\n",
       "      <td>On-line</td>\n",
       "      <td>11:55:00</td>\n",
       "    </tr>\n",
       "    <tr>\n",
       "      <th>508</th>\n",
       "      <td>10509</td>\n",
       "      <td>Leste</td>\n",
       "      <td>Boleto</td>\n",
       "      <td>Web</td>\n",
       "      <td>23.53</td>\n",
       "      <td>On-line</td>\n",
       "      <td>21:52:00</td>\n",
       "    </tr>\n",
       "    <tr>\n",
       "      <th>509</th>\n",
       "      <td>10510</td>\n",
       "      <td>Norte</td>\n",
       "      <td>Cartão</td>\n",
       "      <td>Web</td>\n",
       "      <td>24.63</td>\n",
       "      <td>Livro</td>\n",
       "      <td>04:04:00</td>\n",
       "    </tr>\n",
       "  </tbody>\n",
       "</table>\n",
       "<p>510 rows × 7 columns</p>\n",
       "</div>"
      ],
      "text/plain": [
       "        ID Região Pagamento  Origem  Valor ($)  Produto   Horário\n",
       "0    10001  Leste    Boleto     Web      20.19  On-line  22:19:00\n",
       "1    10002  Oeste    Cartão     Web      17.85  On-line  13:27:00\n",
       "2    10003  Norte    Cartão     Web      23.98  On-line  14:27:00\n",
       "3    10004  Oeste    Boleto  E-mail      23.51    Livro  15:38:00\n",
       "4    10005    Sul    Cartão     Web      15.33    Livro  15:21:00\n",
       "..     ...    ...       ...     ...        ...      ...       ...\n",
       "505  10506    Sul    Cartão     Web      16.35    Livro  22:29:00\n",
       "506  10507  Oeste    Boleto     Web      23.70    Livro  20:43:00\n",
       "507  10508    Sul    Cartão     Web      22.02  On-line  11:55:00\n",
       "508  10509  Leste    Boleto     Web      23.53  On-line  21:52:00\n",
       "509  10510  Norte    Cartão     Web      24.63    Livro  04:04:00\n",
       "\n",
       "[510 rows x 7 columns]"
      ]
     },
     "execution_count": 2,
     "metadata": {},
     "output_type": "execute_result"
    }
   ],
   "source": [
    "df = pd.read_excel(\"Tabela_de_analise.xlsx\")\n",
    "df"
   ]
  },
  {
   "cell_type": "markdown",
   "metadata": {},
   "source": [
    "**Vendo a quantiade de objetos não nulos**"
   ]
  },
  {
   "cell_type": "code",
   "execution_count": 3,
   "metadata": {},
   "outputs": [
    {
     "name": "stdout",
     "output_type": "stream",
     "text": [
      "<class 'pandas.core.frame.DataFrame'>\n",
      "RangeIndex: 510 entries, 0 to 509\n",
      "Data columns (total 7 columns):\n",
      " #   Column     Non-Null Count  Dtype  \n",
      "---  ------     --------------  -----  \n",
      " 0   ID         510 non-null    int64  \n",
      " 1   Região     510 non-null    object \n",
      " 2   Pagamento  510 non-null    object \n",
      " 3   Origem     510 non-null    object \n",
      " 4   Valor ($)  510 non-null    float64\n",
      " 5   Produto    510 non-null    object \n",
      " 6   Horário    510 non-null    object \n",
      "dtypes: float64(1), int64(1), object(5)\n",
      "memory usage: 28.0+ KB\n"
     ]
    }
   ],
   "source": [
    "#Vendo a quantiade de objetos não nulos\n",
    "df = pd.read_excel(\"Tabela_de_analise.xlsx\")\n",
    "df.info()"
   ]
  },
  {
   "cell_type": "markdown",
   "metadata": {},
   "source": [
    "**Tirando o ID da tabela, pois ele não importa na análise do problema**"
   ]
  },
  {
   "cell_type": "code",
   "execution_count": 4,
   "metadata": {},
   "outputs": [
    {
     "data": {
      "text/html": [
       "<div>\n",
       "<style scoped>\n",
       "    .dataframe tbody tr th:only-of-type {\n",
       "        vertical-align: middle;\n",
       "    }\n",
       "\n",
       "    .dataframe tbody tr th {\n",
       "        vertical-align: top;\n",
       "    }\n",
       "\n",
       "    .dataframe thead th {\n",
       "        text-align: right;\n",
       "    }\n",
       "</style>\n",
       "<table border=\"1\" class=\"dataframe\">\n",
       "  <thead>\n",
       "    <tr style=\"text-align: right;\">\n",
       "      <th></th>\n",
       "      <th>Região</th>\n",
       "      <th>Pagamento</th>\n",
       "      <th>Origem</th>\n",
       "      <th>Valor ($)</th>\n",
       "      <th>Produto</th>\n",
       "      <th>Horário</th>\n",
       "    </tr>\n",
       "  </thead>\n",
       "  <tbody>\n",
       "    <tr>\n",
       "      <th>0</th>\n",
       "      <td>Leste</td>\n",
       "      <td>Boleto</td>\n",
       "      <td>Web</td>\n",
       "      <td>20.19</td>\n",
       "      <td>On-line</td>\n",
       "      <td>22:19:00</td>\n",
       "    </tr>\n",
       "    <tr>\n",
       "      <th>1</th>\n",
       "      <td>Oeste</td>\n",
       "      <td>Cartão</td>\n",
       "      <td>Web</td>\n",
       "      <td>17.85</td>\n",
       "      <td>On-line</td>\n",
       "      <td>13:27:00</td>\n",
       "    </tr>\n",
       "    <tr>\n",
       "      <th>2</th>\n",
       "      <td>Norte</td>\n",
       "      <td>Cartão</td>\n",
       "      <td>Web</td>\n",
       "      <td>23.98</td>\n",
       "      <td>On-line</td>\n",
       "      <td>14:27:00</td>\n",
       "    </tr>\n",
       "    <tr>\n",
       "      <th>3</th>\n",
       "      <td>Oeste</td>\n",
       "      <td>Boleto</td>\n",
       "      <td>E-mail</td>\n",
       "      <td>23.51</td>\n",
       "      <td>Livro</td>\n",
       "      <td>15:38:00</td>\n",
       "    </tr>\n",
       "    <tr>\n",
       "      <th>4</th>\n",
       "      <td>Sul</td>\n",
       "      <td>Cartão</td>\n",
       "      <td>Web</td>\n",
       "      <td>15.33</td>\n",
       "      <td>Livro</td>\n",
       "      <td>15:21:00</td>\n",
       "    </tr>\n",
       "    <tr>\n",
       "      <th>...</th>\n",
       "      <td>...</td>\n",
       "      <td>...</td>\n",
       "      <td>...</td>\n",
       "      <td>...</td>\n",
       "      <td>...</td>\n",
       "      <td>...</td>\n",
       "    </tr>\n",
       "    <tr>\n",
       "      <th>505</th>\n",
       "      <td>Sul</td>\n",
       "      <td>Cartão</td>\n",
       "      <td>Web</td>\n",
       "      <td>16.35</td>\n",
       "      <td>Livro</td>\n",
       "      <td>22:29:00</td>\n",
       "    </tr>\n",
       "    <tr>\n",
       "      <th>506</th>\n",
       "      <td>Oeste</td>\n",
       "      <td>Boleto</td>\n",
       "      <td>Web</td>\n",
       "      <td>23.70</td>\n",
       "      <td>Livro</td>\n",
       "      <td>20:43:00</td>\n",
       "    </tr>\n",
       "    <tr>\n",
       "      <th>507</th>\n",
       "      <td>Sul</td>\n",
       "      <td>Cartão</td>\n",
       "      <td>Web</td>\n",
       "      <td>22.02</td>\n",
       "      <td>On-line</td>\n",
       "      <td>11:55:00</td>\n",
       "    </tr>\n",
       "    <tr>\n",
       "      <th>508</th>\n",
       "      <td>Leste</td>\n",
       "      <td>Boleto</td>\n",
       "      <td>Web</td>\n",
       "      <td>23.53</td>\n",
       "      <td>On-line</td>\n",
       "      <td>21:52:00</td>\n",
       "    </tr>\n",
       "    <tr>\n",
       "      <th>509</th>\n",
       "      <td>Norte</td>\n",
       "      <td>Cartão</td>\n",
       "      <td>Web</td>\n",
       "      <td>24.63</td>\n",
       "      <td>Livro</td>\n",
       "      <td>04:04:00</td>\n",
       "    </tr>\n",
       "  </tbody>\n",
       "</table>\n",
       "<p>510 rows × 6 columns</p>\n",
       "</div>"
      ],
      "text/plain": [
       "    Região Pagamento  Origem  Valor ($)  Produto   Horário\n",
       "0    Leste    Boleto     Web      20.19  On-line  22:19:00\n",
       "1    Oeste    Cartão     Web      17.85  On-line  13:27:00\n",
       "2    Norte    Cartão     Web      23.98  On-line  14:27:00\n",
       "3    Oeste    Boleto  E-mail      23.51    Livro  15:38:00\n",
       "4      Sul    Cartão     Web      15.33    Livro  15:21:00\n",
       "..     ...       ...     ...        ...      ...       ...\n",
       "505    Sul    Cartão     Web      16.35    Livro  22:29:00\n",
       "506  Oeste    Boleto     Web      23.70    Livro  20:43:00\n",
       "507    Sul    Cartão     Web      22.02  On-line  11:55:00\n",
       "508  Leste    Boleto     Web      23.53  On-line  21:52:00\n",
       "509  Norte    Cartão     Web      24.63    Livro  04:04:00\n",
       "\n",
       "[510 rows x 6 columns]"
      ]
     },
     "execution_count": 4,
     "metadata": {},
     "output_type": "execute_result"
    }
   ],
   "source": [
    "df.drop(columns=['ID'], inplace = True)\n",
    "df"
   ]
  },
  {
   "cell_type": "markdown",
   "metadata": {},
   "source": [
    "**Definindo os nomes da colunas da tabela**"
   ]
  },
  {
   "cell_type": "code",
   "execution_count": 5,
   "metadata": {},
   "outputs": [],
   "source": [
    "nomeColunas = ['Região','Pagamento','Origem','Valor ($)','Produto','Horário']"
   ]
  },
  {
   "cell_type": "markdown",
   "metadata": {},
   "source": [
    "**Análise de pedidos por região** "
   ]
  },
  {
   "cell_type": "markdown",
   "metadata": {},
   "source": [
    "1 -> Filtro das regiões"
   ]
  },
  {
   "cell_type": "code",
   "execution_count": 6,
   "metadata": {},
   "outputs": [],
   "source": [
    "filtro_leste = df['Região'] == \"Leste\"\n",
    "filtro_oeste = df['Região'] == \"Oeste\"\n",
    "filtro_norte = df['Região'] == \"Norte\"\n",
    "filtro_sul = df['Região'] == \"Sul\""
   ]
  },
  {
   "cell_type": "markdown",
   "metadata": {},
   "source": [
    "2 -> Criando as tabelas para cada região "
   ]
  },
  {
   "cell_type": "code",
   "execution_count": 7,
   "metadata": {},
   "outputs": [],
   "source": [
    "dfleste = df[filtro_leste]\n",
    "dfoeste = df[filtro_oeste]\n",
    "dfnorte = df[filtro_norte]\n",
    "dfsul = df[filtro_sul]"
   ]
  },
  {
   "cell_type": "markdown",
   "metadata": {},
   "source": [
    "3 -> Contagem dos pedidos por região"
   ]
  },
  {
   "cell_type": "code",
   "execution_count": 8,
   "metadata": {},
   "outputs": [
    {
     "name": "stdout",
     "output_type": "stream",
     "text": [
      "Quantidade de pedidos para região Leste = 101\n",
      "Quantidade de pedidos para região Oeste = 211\n",
      "Quantidade de pedidos para região Norte = 92\n",
      "Quantidade de pedidos para região Sul = 106\n"
     ]
    }
   ],
   "source": [
    "Rl = dfleste[\"Região\"].count()\n",
    "Ro = dfoeste[\"Região\"].count()\n",
    "Rn = dfnorte[\"Região\"].count()\n",
    "Rs = dfsul[\"Região\"].count()\n",
    "print(f\"Quantidade de pedidos para região Leste = {Rl}\")\n",
    "print(f\"Quantidade de pedidos para região Oeste = {Ro}\")\n",
    "print(f\"Quantidade de pedidos para região Norte = {Rn}\")\n",
    "print(f\"Quantidade de pedidos para região Sul = {Rs}\")"
   ]
  },
  {
   "cell_type": "markdown",
   "metadata": {},
   "source": [
    "4 -> Gráfico da contagem dos pedidos por região"
   ]
  },
  {
   "cell_type": "code",
   "execution_count": 13,
   "metadata": {},
   "outputs": [
    {
     "data": {
      "text/plain": [
       "Text(0.5, 0, 'Região')"
      ]
     },
     "execution_count": 13,
     "metadata": {},
     "output_type": "execute_result"
    },
    {
     "data": {
      "image/png": "[encoded data removed]",
      "text/plain": [
       "<Figure size 1200x600 with 1 Axes>"
      ]
     },
     "metadata": {},
     "output_type": "display_data"
    }
   ],
   "source": [
    "plt.figure(figsize=(12,6))\n",
    "dados = {\n",
    "    'Região': ['Norte', 'Sul', 'Leste', 'Oeste'],\n",
    "    'Quantidade': [Rn, Rs, Rl, Ro]\n",
    "}\n",
    "dfn = pd.DataFrame(dados)\n",
    "plt.ylabel(\"Quantidade\") \n",
    "plt.bar(dfn['Região'], dfn['Quantidade'])\n",
    "plt.title(\"Contagem dos pedidos por região\")\n",
    "plt.xlabel(\"Região\")"
   ]
  },
  {
   "cell_type": "markdown",
   "metadata": {},
   "source": [
    "5 -> Custo médio por região"
   ]
  },
  {
   "cell_type": "code",
   "execution_count": 12,
   "metadata": {},
   "outputs": [
    {
     "name": "stdout",
     "output_type": "stream",
     "text": [
      "Custo médio para região Leste = 20.39\n",
      "Custo médio para região Oeste = 20.61\n",
      "Custo médio para região Norte = 20.29\n",
      "Custo médio para região Sul = 20.465\n"
     ]
    }
   ],
   "source": [
    "Cl = dfleste[\"Valor ($)\"].median()\n",
    "Co = dfoeste[\"Valor ($)\"].median()\n",
    "Cn = dfnorte[\"Valor ($)\"].median()\n",
    "Cs = dfsul[\"Valor ($)\"].median()\n",
    "\n",
    "print(f\"Custo médio para região Leste = {Cl}\")\n",
    "print(f\"Custo médio para região Oeste = {Co}\")\n",
    "print(f\"Custo médio para região Norte = {Cn}\")\n",
    "print(f\"Custo médio para região Sul = {Cs}\")"
   ]
  }
 ],
 "metadata": {
  "kernelspec": {
   "display_name": "Python 3",
   "language": "python",
   "name": "python3"
  },
  "language_info": {
   "codemirror_mode": {
    "name": "ipython",
    "version": 3
   },
   "file_extension": ".py",
   "mimetype": "text/x-python",
   "name": "python",
   "nbconvert_exporter": "python",
   "pygments_lexer": "ipython3",
   "version": "3.11.8"
  }
 },
 "nbformat": 4,
 "nbformat_minor": 2
}
